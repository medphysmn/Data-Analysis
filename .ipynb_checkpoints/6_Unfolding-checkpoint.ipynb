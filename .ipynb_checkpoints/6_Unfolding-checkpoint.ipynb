{
 "cells": [
  {
   "cell_type": "markdown",
   "metadata": {},
   "source": [
    "# Data Unfolding\n",
    "\n",
    "È fondamentale nell'analisi dei dati sapersi ricondurre dalla distribuzione misurata di una quantità fisicadi interesse, a quella vera\n",
    "\n",
    "La differenza tra le due distribuzioni è dovuta sia alla presenza di un fondo fisico sia alle distorsioni causate dal rivelatore. \n",
    "\n",
    "Il metodo di correzione di queste distorsioni è noto con il nome di unfolding o deconvoluzione.\n",
    "\n",
    "La diffrazione è un particolare fenomeno di interferenza che si verifica quando un’onda incontra nel suo percorso un ostacolo o un’apertura. Il pattern di diffrazione cambia quando nel piano sono presenti delle fenditure multiple.\n",
    "\n",
    "Lo spettro atteso è qualitativamente riportato in figura (c):\n",
    "\n",
    "\n",
    "\n",
    "![](doppiaz.jpg)\n",
    "\n",
    "Lo spettro d’intensità sullo schermo può essere descritto come segue:\n",
    "\n",
    "\n"
   ]
  },
  {
   "cell_type": "markdown",
   "metadata": {},
   "source": [
    "![](inter.png)\n"
   ]
  },
  {
   "cell_type": "markdown",
   "metadata": {},
   "source": [
    "Si intende simulare lo spettro di intensità prodotto sullo schermo dalla\n",
    "diffrazione da doppia fenditura."
   ]
  },
  {
   "cell_type": "code",
   "execution_count": null,
   "metadata": {
    "collapsed": true
   },
   "outputs": [],
   "source": [
    "import numpy as np\n",
    "import ROOT\n",
    "import pylab\n",
    "import pandas\n",
    "import random\n",
    "import rootplot.root2matplotlib as r2m\n",
    "from matplotlib import pyplot as plt\n",
    "from ROOT import RooUnfoldResponse\n",
    "\n",
    "# Definisco la funzione di I per 2 fenditure .\n",
    "def doppia_fenditura (x , I_0 , a , L , lungh_onda) :\n",
    "    return I_0 * np . power (( lungh_onda * L * np.sin ( np.pi * a * x /( lungh_onda * L ) ) /( np.pi * a * x ) *( np.sin ( np.pi * 2 * 0.001 * x /( lungh_onda * L ) ) ) /( np.sin ( np.pi * 0.001 * x /( lungh_onda * L ) ) ) ) , 2)\n",
    "\n",
    "def doppia_fenditura_root (x , parametri ) :\n",
    "    return doppia_fenditura( x[0] , parametri[0] , parametri[1] ,parametri [2] , parametri[3])\n",
    "\n",
    "# Costanti\n",
    "e = 10\n",
    "x_min = -0.02\n",
    "x_max = +0.025\n",
    "I_0 = 1.\n",
    "L = 5.\n",
    "a = 0.0005 \n",
    "lungh_onda = 0.0000006\n",
    "num_bins = 45\n",
    "n = 50000\n",
    "\n",
    "# Creo l oggetto TF1 e imposto i parametri .\n",
    "funzione_doppia_fenditura = ROOT.TF1 (\"funzione_doppia_fenditura\", doppia_fenditura_root , x_min , x_max , 4)\n",
    "funzione_doppia_fenditura.SetParameters (I_0 , a , L , lungh_onda)\n",
    "\n",
    "# Creo l istogramma per i dati \"veri\".\n",
    "histo = ROOT.TH1F(\"h\", \"Histo\", num_bins , x_min , x_max)\n",
    "c = ROOT.TCanvas(\"c\")\n",
    "    \n",
    "# Creo lo spettro incidente generando n eventi e riempiendo l  istogramma .\n",
    "for i in range( n ):\n",
    "    x_i = funzione_doppia_fenditura.GetRandom(x_min , x_max)\n",
    "    histo.Fill(x_i)\n",
    "    \n",
    "histo.Draw()\n",
    "c.Draw()\n",
    "c.SaveAs(\"doppia_fenditura_originale.png\")\n"
   ]
  },
  {
   "cell_type": "markdown",
   "metadata": {},
   "source": [
    "L'istogramma di eventi che si ottiene è:\n",
    "![](doppia_fenditura_originale.png)"
   ]
  },
  {
   "cell_type": "markdown",
   "metadata": {},
   "source": [
    "**Smearing dei dati**\n",
    "\n",
    "Si applica ora uno smearing Gaussiano con  $\\mu=0$ e $\\sigma=c*\\Delta x$ all'istogramma degli eventi ottenuti per introdurre la migrazione segnale tra bin come causa di distorsione."
   ]
  },
  {
   "cell_type": "code",
   "execution_count": null,
   "metadata": {
    "collapsed": true
   },
   "outputs": [],
   "source": [
    "# Inizializzazioni .\n",
    "mu_smear = 0.0\n",
    "c = 1.0\n",
    "Delta_x = (x_max - x_min)/num_bins\n",
    "\n",
    "# Creo listogramma per i dati \" misurati \".\n",
    "d = ROOT.TCanvas(\"d\")\n",
    "histo_smeared = ROOT.TH1F(\"Smeared\", \"Smeared\", num_bins , x_min , x_max)\n",
    "\n",
    "# Applico lo smearing gaussiano ai dati generati in precedenza e riempio un secondo istogramma .\n",
    "for i in range(n):\n",
    "    x_i_measured = x_i + random.gauss(mu_smear , (c*Delta_x))\n",
    "    histo_smeared.Fill(x_i_measured)\n",
    "    \n",
    "histo_smeared.Draw()\n",
    "d.Draw()\n",
    "d.SaveAs(\"histo_smeared.png\")"
   ]
  },
  {
   "cell_type": "markdown",
   "metadata": {},
   "source": [
    "Sono riportati tre differenti smearing rispettivamente con $c = 0.1$ ,  $c = 0.5$ e $c = 1.$ \n",
    "\n",
    "Si osserva una chiara evoluzione degli istogrammi con smearing all’aumentare di $c$; come atteso il picco centrale si abbassa e si allarga, mentre i picchi secondari sono sempre meno netti."
   ]
  },
  {
   "cell_type": "markdown",
   "metadata": {},
   "source": [
    "Smoothing con $c = 0.1$:\n",
    "\n",
    "![](histo_smeared0.1.png)"
   ]
  },
  {
   "cell_type": "markdown",
   "metadata": {},
   "source": [
    "Smoothing con $c = 0.5$:\n",
    "\n",
    "![](histo_smeared0.5.png)"
   ]
  },
  {
   "cell_type": "markdown",
   "metadata": {},
   "source": [
    "Smoothing con $c = 1$:\n",
    "\n",
    "![](histo_smeared1.png)"
   ]
  },
  {
   "cell_type": "markdown",
   "metadata": {},
   "source": [
    "**Unfolding dei dati**\n",
    "\n",
    "Utilizzando il package RooUnfold si effettua quindi l'unfolding dei dati, ovvero “correggere” le distorsioni introdotte dal rivelatore e la\n",
    "presenza di fondi.\n",
    "\n",
    "Il metodo di unfolding che abbiamo utilizzato è il cosiddetto unfolding bayesiano, che si basa sul noto teorema di Bayes.\n",
    "\n",
    "La procedura di unfolding bayesiano può essere spiegata in un quadro di cause ed effetti nel quale le cause corrispondono ai valori veri prima dello smearing e gli effetti corrispondono ai valori misurati dopo lo smearing.\n",
    "\n",
    "L’aspetto particolarmente interessante della procedura di unfolding bayesiano è la possibilità di effettuare l’unfolding anche in caso di completa ignoranza del processo di distorsione in esame; infatti è sufficiente porre $P_0(C)$ (la probabilità iniziale della causa $C$) uguale a una distribuzione uniforme. Scegliendo $P_0(C)$ uniforme sono necessarie più iterazioni rispetto al caso in cui la distribuzione iniziale è accuratamente scelta, ma non si corre il rischio di influenzare irreparabilmente la distribuzione finale.\n",
    "\n",
    "Tipicamente dopo poche iterazioni la distribuzione finale approssima bene la distribuzione vera, mentre al crescere del numero di iterazioni di unfolding la distribuzione finale mostra grandi fluttuazioni attorno alla distribuzione vera. Questo effetto è dovuto a un’amplificazione delle fluttuazioni statistiche.\n",
    "\n",
    "Si è scelta una distribuzione $P_0(C)$ uniforme e si è effettuato l’unfolding dei dati ottenuti si senza smearing che con smearing con i diversi valori di c. Ogni ciclo di unfolding è stato scelto essere composto da 4 iterazioni."
   ]
  },
  {
   "cell_type": "code",
   "execution_count": null,
   "metadata": {
    "collapsed": true
   },
   "outputs": [],
   "source": [
    "# Inizializzione \n",
    "n_t = 1000000\n",
    "\n",
    "e = ROOT.TCanvas(\"e\")\n",
    "# Creo un istogramma per lo spettro uniforme \" vero \" e un istogramma per lo spettro uniforme \" misurato \".\n",
    "histo_risp = ROOT.TH1F(\"Response_true\",\"Response_true\", num_bins , x_min , x_max)\n",
    "histo_smeared_risp = ROOT.TH1F(\"Response_smeared\" ,\"Response_smeared\" , num_bins , x_min , x_max)\n",
    "\n",
    "# Creo la matrice di risposta .\n",
    "response = ROOT.RooUnfoldResponse(histo_smeared_risp , histo_risp) ;\n",
    "# Genero i due spettri e riempio la matrice di risposta .\n",
    "for i in range (n_t):\n",
    "    x_i_risp = random.uniform(x_min , x_max)\n",
    "    x_i_measured_risp = random.gauss(x_i_risp , ( c * Delta_x ))\n",
    "    response.Fill(x_i_measured_risp , x_i_risp)\n",
    "\n",
    "plt.figure(1, (8, 6))\n",
    "ax1 = plt.axes()\n",
    "    \n",
    "# Applico l unfolding bayesiano ai dati ottenuti precedentemente a seguito dello smearing gaussiano .\n",
    "unfold_bayes = ROOT.RooUnfoldBayes(response , histo_smeared , 4 , False )\n",
    "Unfold_bayes = r2m.Hist(unfold_bayes.Hreco() , label = \"Unfolded\" ) \n",
    "\n",
    "Unfold_bayes.bar(color='r')\n",
    "Unfold_bayes.show_titles()\n",
    "plt.savefig('Unfolded')\n",
    "\n",
    "plt.clf()\n",
    "plt.figure(1, (8, 6))\n",
    "ax2 = plt.axes()"
   ]
  },
  {
   "cell_type": "markdown",
   "metadata": {},
   "source": [
    "**Unfolding bayesiano con $c=1$**\n",
    "\n",
    "![](Unfolded1.png)"
   ]
  },
  {
   "cell_type": "markdown",
   "metadata": {},
   "source": [
    "**Unfolding bayesiano con $c=0.5$**\n",
    "\n",
    "![](Unfolded05.png)"
   ]
  },
  {
   "cell_type": "markdown",
   "metadata": {},
   "source": [
    "**Unfolding bayesiano con $c=0.1$**\n",
    "\n",
    "![](Unfolded01.png)"
   ]
  }
 ],
 "metadata": {
  "kernelspec": {
   "display_name": "Python 3",
   "language": "python",
   "name": "python3"
  },
  "language_info": {
   "codemirror_mode": {
    "name": "ipython",
    "version": 3
   },
   "file_extension": ".py",
   "mimetype": "text/x-python",
   "name": "python",
   "nbconvert_exporter": "python",
   "pygments_lexer": "ipython3",
   "version": "3.6.3"
  }
 },
 "nbformat": 4,
 "nbformat_minor": 2
}
