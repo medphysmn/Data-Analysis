{
 "cells": [
  {
   "cell_type": "markdown",
   "metadata": {},
   "source": [
    "# Data Unfolding\n",
    "\n",
    "Per prima cosa si simula lo spettro di intensità $I$ di 50000 eventi su uno schermo a distanza $L$ dalla sorgente."
   ]
  },
  {
   "cell_type": "code",
   "execution_count": 2,
   "metadata": {
    "collapsed": true
   },
   "outputs": [
    {
     "ename": "ModuleNotFoundError",
     "evalue": "No module named 'ROOT'",
     "output_type": "error",
     "traceback": [
      "\u001b[0;31m---------------------------------------------------------------------------\u001b[0m",
      "\u001b[0;31mModuleNotFoundError\u001b[0m                       Traceback (most recent call last)",
      "\u001b[0;32m<ipython-input-2-27bf4e038c34>\u001b[0m in \u001b[0;36m<module>\u001b[0;34m()\u001b[0m\n\u001b[1;32m      1\u001b[0m \u001b[0;32mimport\u001b[0m \u001b[0mnumpy\u001b[0m \u001b[0;32mas\u001b[0m \u001b[0mnp\u001b[0m\u001b[0;34m\u001b[0m\u001b[0m\n\u001b[0;32m----> 2\u001b[0;31m \u001b[0;32mimport\u001b[0m \u001b[0mROOT\u001b[0m\u001b[0;34m\u001b[0m\u001b[0m\n\u001b[0m\u001b[1;32m      3\u001b[0m \u001b[0;32mimport\u001b[0m \u001b[0mpylab\u001b[0m\u001b[0;34m\u001b[0m\u001b[0m\n\u001b[1;32m      4\u001b[0m \u001b[0;32mimport\u001b[0m \u001b[0mpandas\u001b[0m\u001b[0;34m\u001b[0m\u001b[0m\n\u001b[1;32m      5\u001b[0m \u001b[0;32mimport\u001b[0m \u001b[0mrandom\u001b[0m\u001b[0;34m\u001b[0m\u001b[0m\n",
      "\u001b[0;31mModuleNotFoundError\u001b[0m: No module named 'ROOT'"
     ]
    }
   ],
   "source": [
    "import numpy as np\n",
    "import ROOT\n",
    "import pylab\n",
    "import pandas\n",
    "import random\n",
    "import rootplot.root2matplotlib as r2m\n",
    "from matplotlib import pyplot as plt\n",
    "from ROOT import RooUnfoldResponse\n",
    "\n",
    "# Definisco la funzione di I per 2 fenditure .\n",
    "def doppia_fenditura (x , I_0 , a , L , lungh_onda) :\n",
    "    return I_0 * np . power (( lungh_onda * L * np.sin ( np.pi * a * x /( lungh_onda * L ) ) /( np.pi * a * x ) *( np.sin ( np.pi * 2 * 0.001 * x /( lungh_onda * L ) ) ) /( np.sin ( np.pi * 0.001 * x /( lungh_onda * L ) ) ) ) , 2)\n",
    "\n",
    "# Ridefinisco la funzione di I per N fenditure per ROOT .\n",
    "def doppia_fenditura_root (x , parametri ) :\n",
    "    return doppia_fenditura ( x[0] , parametri[0] , parametri[1] ,parametri [2] , parametri[3])\n",
    "\n",
    "# Costanti\n",
    "e = 10\n",
    "x_min = -0.02\n",
    "x_max = +0.025\n",
    "I_0 = 1.\n",
    "L = 5.\n",
    "a = 0.0005 \n",
    "lungh_onda = 0.0000006328\n",
    "num_bins = 45\n",
    "n = 50000\n",
    "\n",
    "# Creo l oggetto TF1 e imposto i parametri .\n",
    "funzione_doppia_fenditura = ROOT.TF1 (\"funzione_doppia_fenditura\", doppia_fenditura_root , x_min , x_max , 4)\n",
    "funzione_doppia_fenditura.SetParameters (I_0 , a , L , lungh_onda)\n",
    "\n",
    "# Creo l istogramma per i dati \"veri\".\n",
    "histo = ROOT.TH1F(\"h\", \"Histo\", num_bins , x_min , x_max)\n",
    "c = ROOT.TCanvas(\"c\")\n",
    "    \n",
    "# Creo lo spettro incidente generando n eventi e riempiendo l  istogramma .\n",
    "for i in range( n ):\n",
    "    x_i = funzione_doppia_fenditura.GetRandom(x_min , x_max)\n",
    "    histo.Fill(x_i)\n",
    "    \n",
    "histo.Draw()\n",
    "c.Draw()\n",
    "c.SaveAs(\"doppia_fenditura_originale.png\")\n"
   ]
  },
  {
   "cell_type": "markdown",
   "metadata": {},
   "source": [
    "Lo spettro atteso è riportato in figura (c):\n",
    "\n",
    "\n",
    "\n",
    "![](doppiaz.jpg)\n"
   ]
  },
  {
   "cell_type": "markdown",
   "metadata": {},
   "source": [
    "L'istogramma di eventi che si ottiene è:\n",
    "![](doppia_fenditura_originale.png)"
   ]
  },
  {
   "cell_type": "markdown",
   "metadata": {},
   "source": []
  },
  {
   "cell_type": "markdown",
   "metadata": {},
   "source": [
    "Si applica ora uno smearing Gaussiano con $\\sigma=c*\\Delta x$ all'istogramma degli eventi ottenuti."
   ]
  },
  {
   "cell_type": "code",
   "execution_count": null,
   "metadata": {
    "collapsed": true
   },
   "outputs": [],
   "source": [
    "# Inizializzazioni .\n",
    "mu_smear = 0.0\n",
    "c = 1.0\n",
    "Delta_x = (x_max - x_min)/num_bins\n",
    "\n",
    "# Creo listogramma per i dati \" misurati \".\n",
    "d = ROOT.TCanvas(\"d\")\n",
    "histo_smeared = ROOT.TH1F(\"Smeared\", \"Smeared\", num_bins , x_min , x_max)\n",
    "\n",
    "# Applico lo smearing gaussiano ai dati generati in precedenza e riempio un secondo istogramma .\n",
    "for i in range(n):\n",
    "    x_i_measured=x_i + random.gauss(mu_smear , (c*Delta_x))\n",
    "    histo_smeared.Fill(x_i_measured)\n",
    "    \n",
    "histo_smeared.Draw()\n",
    "d.Draw()\n",
    "d.SaveAs(\"histo_smeared.png\")"
   ]
  },
  {
   "cell_type": "markdown",
   "metadata": {},
   "source": [
    "Sono riportati tre differenti smearing rispettivamente con $c = 0.1$ ,  $c = 0.5$ e $c = 1.$ \n",
    "\n",
    "Come atteso all'aumentare di $\\sigma$ lo smearing è meno marcato."
   ]
  },
  {
   "cell_type": "markdown",
   "metadata": {},
   "source": [
    "Smoothing con $c = 0.1$:\n",
    "\n",
    "![](histo_smeared0.1.png)"
   ]
  },
  {
   "cell_type": "markdown",
   "metadata": {},
   "source": [
    "Smoothing con $c = 0.5$:\n",
    "\n",
    "![](histo_smeared0.5.png)"
   ]
  },
  {
   "cell_type": "markdown",
   "metadata": {},
   "source": [
    "Smoothing con $c = 1$:\n",
    "\n",
    "![](histo_smeared1.png)"
   ]
  },
  {
   "cell_type": "markdown",
   "metadata": {},
   "source": [
    "Utilizzando il package RooUnfold si effettua quindi l'unfolding dei dati."
   ]
  },
  {
   "cell_type": "code",
   "execution_count": 3,
   "metadata": {
    "collapsed": true
   },
   "outputs": [
    {
     "ename": "NameError",
     "evalue": "name 'ROOT' is not defined",
     "output_type": "error",
     "traceback": [
      "\u001b[0;31m---------------------------------------------------------------------------\u001b[0m",
      "\u001b[0;31mNameError\u001b[0m                                 Traceback (most recent call last)",
      "\u001b[0;32m<ipython-input-3-286b4102f222>\u001b[0m in \u001b[0;36m<module>\u001b[0;34m()\u001b[0m\n\u001b[1;32m      3\u001b[0m \u001b[0miterazione\u001b[0m \u001b[0;34m=\u001b[0m \u001b[0;36m1\u001b[0m\u001b[0;34m\u001b[0m\u001b[0m\n\u001b[1;32m      4\u001b[0m \u001b[0;34m\u001b[0m\u001b[0m\n\u001b[0;32m----> 5\u001b[0;31m \u001b[0me\u001b[0m \u001b[0;34m=\u001b[0m \u001b[0mROOT\u001b[0m\u001b[0;34m.\u001b[0m\u001b[0mTCanvas\u001b[0m\u001b[0;34m(\u001b[0m\u001b[0;34m\"e\"\u001b[0m\u001b[0;34m)\u001b[0m\u001b[0;34m\u001b[0m\u001b[0m\n\u001b[0m\u001b[1;32m      6\u001b[0m \u001b[0;31m# Creo un istogramma per lo spettro uniforme \" vero \" e un istogramma per lo spettro uniforme \" misurato \".\u001b[0m\u001b[0;34m\u001b[0m\u001b[0;34m\u001b[0m\u001b[0m\n\u001b[1;32m      7\u001b[0m \u001b[0mhisto_risp\u001b[0m \u001b[0;34m=\u001b[0m \u001b[0mROOT\u001b[0m\u001b[0;34m.\u001b[0m\u001b[0mTH1F\u001b[0m\u001b[0;34m(\u001b[0m\u001b[0;34m\"Response_true\"\u001b[0m\u001b[0;34m,\u001b[0m\u001b[0;34m\"Response_true\"\u001b[0m\u001b[0;34m,\u001b[0m \u001b[0mnum_bins\u001b[0m \u001b[0;34m,\u001b[0m \u001b[0mx_min\u001b[0m \u001b[0;34m,\u001b[0m \u001b[0mx_max\u001b[0m\u001b[0;34m)\u001b[0m\u001b[0;34m\u001b[0m\u001b[0m\n",
      "\u001b[0;31mNameError\u001b[0m: name 'ROOT' is not defined"
     ]
    }
   ],
   "source": [
    "# Inizializzione \n",
    "n_t = 1000000\n",
    "iterazione = 1\n",
    "\n",
    "e = ROOT.TCanvas(\"e\")\n",
    "# Creo un istogramma per lo spettro uniforme \" vero \" e un istogramma per lo spettro uniforme \" misurato \".\n",
    "histo_risp = ROOT.TH1F(\"Response_true\",\"Response_true\", num_bins , x_min , x_max)\n",
    "histo_smeared_risp = ROOT.TH1F(\"Response_smeared\" ,\"Response_smeared\" , num_bins , x_min , x_max)\n",
    "\n",
    "# Creo la matrice di risposta .\n",
    "response = ROOT.RooUnfoldResponse(histo_smeared_risp ,histo_risp) ;\n",
    "# Genero i due spettri e riempio la matrice di risposta .\n",
    "for i in range (n_t):\n",
    "    x_i_risp = random.uniform(x_min , x_max)\n",
    "    x_i_measured_risp = random.gauss(x_i_risp , ( c * Delta_x ))\n",
    "    response.Fill(x_i_measured_risp , x_i_risp)\n",
    "\n",
    "plt.figure(1, (8, 6))\n",
    "ax1 = plt.axes()\n",
    "    \n",
    "# Applico l unfolding bayesiano ai dati ottenuti precedentemente a seguito dello smearing gaussiano .\n",
    "unfold_bayes = ROOT.RooUnfoldBayes(response , histo_smeared , 1 , False )\n",
    "Unfold_bayes = r2m.Hist(unfold_bayes.Hreco() , label = \"Unfolded\" ) \n",
    "\n",
    "Unfold_bayes.bar(color='r')\n",
    "Unfold_bayes.show_titles()\n",
    "plt.savefig('Unfolded_initial')\n",
    "#plt.show()\n",
    "\n",
    "# Recupero il valore di chi quadro .\n",
    "#chi2 = unfold_bayes.Chi2\n",
    "\n",
    "plt.clf()\n",
    "plt.figure(1, (8, 6))\n",
    "ax2 = plt.axes()"
   ]
  },
  {
   "cell_type": "markdown",
   "metadata": {},
   "source": [
    "Il primo Unfolding è riportato in figura. Il Chi^2 relativo a questo step è 72335.\n",
    "\n",
    "![](Unfolded_initial.png)"
   ]
  },
  {
   "cell_type": "code",
   "execution_count": 4,
   "metadata": {
    "collapsed": true
   },
   "outputs": [
    {
     "ename": "NameError",
     "evalue": "name 'unfold_bayes' is not defined",
     "output_type": "error",
     "traceback": [
      "\u001b[0;31m---------------------------------------------------------------------------\u001b[0m",
      "\u001b[0;31mNameError\u001b[0m                                 Traceback (most recent call last)",
      "\u001b[0;32m<ipython-input-4-c9c1c1e15d5d>\u001b[0m in \u001b[0;36m<module>\u001b[0;34m()\u001b[0m\n\u001b[1;32m      2\u001b[0m \u001b[0;32mwhile\u001b[0m \u001b[0;34m(\u001b[0m\u001b[0miterazione\u001b[0m \u001b[0;34m<\u001b[0m \u001b[0;36m50\u001b[0m\u001b[0;34m)\u001b[0m\u001b[0;34m:\u001b[0m\u001b[0;34m\u001b[0m\u001b[0m\n\u001b[1;32m      3\u001b[0m     \u001b[0;31m#Resetto e imposto nuovamente i parametri dell  unfolding .\u001b[0m\u001b[0;34m\u001b[0m\u001b[0;34m\u001b[0m\u001b[0m\n\u001b[0;32m----> 4\u001b[0;31m     \u001b[0munfold_bayes\u001b[0m\u001b[0;34m.\u001b[0m\u001b[0mReset\u001b[0m \u001b[0;34m(\u001b[0m\u001b[0;34m)\u001b[0m\u001b[0;34m\u001b[0m\u001b[0m\n\u001b[0m\u001b[1;32m      5\u001b[0m     \u001b[0munfold_bayes\u001b[0m\u001b[0;34m.\u001b[0m\u001b[0mSetResponse\u001b[0m \u001b[0;34m(\u001b[0m\u001b[0mresponse\u001b[0m\u001b[0;34m)\u001b[0m\u001b[0;34m\u001b[0m\u001b[0m\n\u001b[1;32m      6\u001b[0m     \u001b[0munfold_bayes\u001b[0m\u001b[0;34m.\u001b[0m\u001b[0mSetMeasured\u001b[0m \u001b[0;34m(\u001b[0m\u001b[0mhisto_smeared\u001b[0m\u001b[0;34m)\u001b[0m\u001b[0;34m\u001b[0m\u001b[0m\n",
      "\u001b[0;31mNameError\u001b[0m: name 'unfold_bayes' is not defined"
     ]
    }
   ],
   "source": [
    "# Ciclo di unfolding .\n",
    "while (iterazione < 50):\n",
    "    #Resetto e imposto nuovamente i parametri dell  unfolding .\n",
    "    unfold_bayes.Reset ()\n",
    "    unfold_bayes.SetResponse (response)\n",
    "    unfold_bayes.SetMeasured (histo_smeared)\n",
    "    unfold_bayes.SetIterations (iterazione)\n",
    "    unfold_bayes.SetSmoothing(False)\n",
    "    #Applico l  unfolding .\n",
    "    Unfold_bayes = r2m.Hist ( unfold_bayes.Hreco() ,label = \"Unfolded\")\n",
    "    #Recupero di nuovo il valore di chi quadro .\n",
    "    #chi2 = unfold_bayes.Chi2\n",
    "    #Incremento il contatore delle iterazioni .\n",
    "    iterazione += 1\n",
    "\n",
    "Unfold_bayes.bar(color='r')\n",
    "Unfold_bayes.show_titles()\n",
    "plt.savefig('Unfolded_final')\n",
    "#plt.show()"
   ]
  },
  {
   "cell_type": "markdown",
   "metadata": {},
   "source": [
    "Ad ogni interazioone il Chi2 diminuisce, come riportato in figura per i primi 5 step. \n",
    "\n",
    "![](quintostep.png)"
   ]
  },
  {
   "cell_type": "markdown",
   "metadata": {},
   "source": [
    "In figura è quindi riportato l'unfolding alla $50esima$ iterazione del ciclo:\n",
    "\n",
    "![](Unfolded_final.png)"
   ]
  }
 ],
 "metadata": {
  "kernelspec": {
   "display_name": "Python 3",
   "language": "python",
   "name": "python3"
  },
  "language_info": {
   "codemirror_mode": {
    "name": "ipython",
    "version": 3
   },
   "file_extension": ".py",
   "mimetype": "text/x-python",
   "name": "python",
   "nbconvert_exporter": "python",
   "pygments_lexer": "ipython3",
   "version": "3.6.3"
  }
 },
 "nbformat": 4,
 "nbformat_minor": 2
}
