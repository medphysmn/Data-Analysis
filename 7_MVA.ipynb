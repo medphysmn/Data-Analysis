{
 "cells": [
  {
   "cell_type": "markdown",
   "metadata": {},
   "source": [
    "# Analisi Multivariata di due classi di eventi\n",
    "\n",
    "Si generino in primis due classi di eventi distribuiti secondo una Breit-Wigner"
   ]
  },
  {
   "cell_type": "markdown",
   "metadata": {},
   "source": [
    "$$\n",
    "f_{H0}(x,y) = \\frac{1}{4\\pi^2} \\frac{1}{\\left(\\frac{1}{4} + (x-0)^2\\right)\\left(\\frac{1}{4} + (y-1)^2\\right)}\n",
    "$$"
   ]
  },
  {
   "cell_type": "markdown",
   "metadata": {},
   "source": [
    "E, quindi, una gaussiana multivariata con matrice di covarianza non diagonale:"
   ]
  },
  {
   "cell_type": "markdown",
   "metadata": {},
   "source": [
    "$$f_{H1}(x,y) =\n",
    "      \\frac{1}{2 \\pi  \\sigma_X \\sigma_Y \\sqrt{1-\\rho^2}}\n",
    "      \\exp\\left(\n",
    "        -\\frac{1}{2(1-\\rho^2)}\\left[\n",
    "          \\frac{(x-\\mu_X)^2}{\\sigma_X^2} +\n",
    "          \\frac{(y-\\mu_Y)^2}{\\sigma_Y^2} -\n",
    "          \\frac{2\\rho(x-\\mu_X)(y-\\mu_Y)}{\\sigma_X \\sigma_Y}\n",
    "        \\right]\n",
    "      \\right)$$"
   ]
  },
  {
   "cell_type": "markdown",
   "metadata": {},
   "source": [
    "Con:\n",
    "$$\n",
    "\\begin{cases}\n",
    "&\\sigma_x=\\sigma_y=1\\\\\n",
    "&\\rho = 0.4\\\\\n",
    "&\\mu_x = \\mu_y = 4\n",
    "\\end{cases}\n",
    "$$"
   ]
  },
  {
   "cell_type": "code",
   "execution_count": 3,
   "metadata": {
    "collapsed": true
   },
   "outputs": [],
   "source": [
    "import numpy as np\n",
    "import matplotlib.pyplot as plt\n",
    "import math\n",
    "import scipy.optimize as op\n",
    "\n",
    "mean_x_BW = 0.        # x_0\n",
    "mean_y_BW = 1.        # y_0\n",
    "FWHM = 1.             # Gamma = 1\n",
    "\n",
    "mean_x_G = 4          # mu_x = 4\n",
    "mean_y_G = 4          # mu_y = 4\n",
    "sigma = 1.\n",
    "rho = 0.4\n",
    "\n",
    "NSignal =  5e3        # Numero di eventi di ciascuna classe generati\n",
    "np.random.seed()      # Imposto il seed\n",
    "signal = []           # Creo una lista da riempire con gli eventi\n",
    "\n",
    "### Definisco le pdf\n",
    "def Breit_Wigner (x, y, mean_x, mean_y, FWHM):\n",
    "        return ((1./math.pi) * (FWHM/2.) / (FWHM**2/4. + (x - mean_x)**2)) * ((1./math.pi) * (FWHM/2.) / (FWHM**2/4. + (y - mean_y)**2))\n",
    "\n",
    "def Multivariate_Gaussian (x,y, mean_x, mean_y, sigma, rho):\n",
    "        r = 1 - rho**2\n",
    "        sigma2 = sigma**2\n",
    "        return (2*math.pi * sigma2 * math.sqrt(r))**(-1) * math.exp( -1. / (2. * sigma2 * r) * ( (x - mean_x)**2 + (y - mean_y)**2 - (2*rho * (x - mean_x) * (y - mean_y))  ) )"
   ]
  },
  {
   "cell_type": "markdown",
   "metadata": {},
   "source": [
    "Genero gli eventi della prima classe utilizzando il metodo *Hit and Miss* ripetuto fino a che il numero di eventi non è pari alla variabile *NSignal*.\n",
    "\n",
    "Setto la x e la y massime degli eventi a +10 e -10 volte la *Full Width Half Maximum*.\n",
    "\n",
    "Salvo il segnale nella lista apposita come una lista formata da 1 array contenente le coordinate dell'evento e un numero indicante l'appartenenza alla prima (0) o seconda classe (1)."
   ]
  },
  {
   "cell_type": "code",
   "execution_count": 4,
   "metadata": {},
   "outputs": [
    {
     "name": "stdout",
     "output_type": "stream",
     "text": [
      "Generazione segnale (BW)...\n"
     ]
    }
   ],
   "source": [
    "print(\"Generazione segnale (BW)...\")\n",
    "signal_BW = []  #creo la lista dove immagazzino il segnale\n",
    "\n",
    "result = np.array([mean_x_BW,  mean_y_BW], float)\n",
    "while len(signal_BW) < NSignal: #Uso il metodo Hit n Miss\n",
    "        result = [0,0]                                  # Assegno alla terza componente il valore 1 agli elementi di BW e quello 0 a quelli di Gaussiana\n",
    "        result[0], result[1] = np.random.uniform(mean_x_BW - 10*FWHM, mean_x_BW + 10*FWHM), np.random.uniform(mean_y_BW - 10*FWHM, mean_y_BW + 10*FWHM)\n",
    "        #due numeri casuali tra -10 e 10 e -10 e 10\n",
    "        probabilita = np.random.uniform(0.,1.)\n",
    "        if probabilita < Breit_Wigner(result[0], result[1], mean_x_BW, mean_y_BW, FWHM):\n",
    "                signal_BW.append([result, 0])\n",
    "                signal.append([result, 0])"
   ]
  },
  {
   "cell_type": "markdown",
   "metadata": {},
   "source": [
    "Genero successivamente, gli eventi della seconda classe utilizzando il metodo della decomposizione di Cholesky.\n",
    "Prendendo la matrice triangolare $L$ inferiore della decomposizione di Cholesky della matrice di Covarianza e applicandola ad un vettore di variabili gaussiane scorrelate $\\vec{X}$ il risultato è un vettore $\\vec{Y}$ di variabili gaussiane correlate:"
   ]
  },
  {
   "cell_type": "markdown",
   "metadata": {},
   "source": [
    "$$\\vec{Y} = L \\vec{X}$$"
   ]
  },
  {
   "cell_type": "markdown",
   "metadata": {},
   "source": [
    "Genero quindi l'array $result$ usando il generatore di NumPy random.normal( ) e lo moltiplico per la matrice $L$ salvando poi i risultati nella solita lista."
   ]
  },
  {
   "cell_type": "code",
   "execution_count": 38,
   "metadata": {},
   "outputs": [
    {
     "name": "stdout",
     "output_type": "stream",
     "text": [
      "Generazione segnale (Gauss)...\n"
     ]
    }
   ],
   "source": [
    "print(\"Generazione segnale (Gauss)...\")\n",
    "signal_Gauss = []\n",
    "L = np.array([[1, 0],[rho, math.sqrt(1 - rho**2)]], float)\n",
    "#[[1.         0.        ]\n",
    "#[0.4        0.91651514]]\n",
    "\n",
    "\n",
    "while len(signal_Gauss) < NSignal:\n",
    "        result = [0,0]\n",
    "\n",
    "        result[0], result[1] = np.random.normal(mean_x_G, sigma), np.random.normal(mean_y_G, sigma)\n",
    "        result = np.dot(L,result)     # Moltiplico il vettore per la matrice.\n",
    "        signal_Gauss.append([result, 1])\n",
    "        signal.append([result, 1])    # Salvo il risultato come le coordinate e l'intero 1\n"
   ]
  },
  {
   "cell_type": "markdown",
   "metadata": {},
   "source": [
    "Per dividere i due eventi, essendo note le pdf, e quindi le funzioni di verosimiglianza, utilizzo il lemma di Neyman-Pearson, il quale asserisce che, quando si opera un test di verifica d'ipotesi tra due ipotesi semplici $H_0$: $\\theta$ = $\\theta_0$ e $H_1$:$\\theta$= $\\theta_1$, il rapporto delle funzioni di verosimiglianza che rigetta $H_0$ in favore di $H_1$ quando:\n",
    "$$\\Lambda(x):=\\frac{ L( \\theta _{0} \\mid x)}{ L (\\theta _{1} \\mid x)} \\leq c\\qquad \\mbox{ con } P(\\Lambda(X)\\leq k|H_0)=\\alpha$$\n",
    "\n",
    "\n",
    "rappresenta il test di verifica più potente a livello di significatività $\\alpha$ per una soglia c."
   ]
  },
  {
   "cell_type": "code",
   "execution_count": 40,
   "metadata": {},
   "outputs": [
    {
     "name": "stdout",
     "output_type": "stream",
     "text": [
      "Classificazione...\n"
     ]
    }
   ],
   "source": [
    "print(\"Classificazione...\")\n",
    "classification_result = np.zeros(len(signal))       # Lista dei risultati della classificazione\n",
    "c = 1.                                              # Setto la soglia, l'evento viene assegnato\n",
    "                                                    # alla classe con verosimiglianza maggiore\n",
    "    \n",
    "x = [x[0] for x in [x[0] for x in signal]]          # Creo una lista con le coordinate x e una con y\n",
    "y = [y[1] for y in [y[0] for y in signal]]\n",
    "true_class = [x[1] for x in signal] #0 o 1          # Creo una lista con l'etichetta di ciascun evento\n",
    "\n",
    "signal_BW_classified = []                           # Liste in cui immagazzino gli eventi classificati\n",
    "signal_Gauss_classified = []\n",
    "\n",
    "Type1 = 0                                           # Inizializzo a 0 gli errori di primo e secondo tipo\n",
    "Type2 = 0\n",
    "\n",
    "for i in range(len(signal)):\n",
    "        # Calcolo il t-value\n",
    "        t = Breit_Wigner (x[i], y[i], mean_x_BW, mean_y_BW, FWHM) / Multivariate_Gaussian (x[i],y[i], mean_x_G, mean_y_G, sigma, rho)\n",
    "\n",
    "        if (t > c):\n",
    "                classification_result[i] = 0\n",
    "                signal_BW_classified.append([x[i],y[i]])\n",
    "                if true_class[i] != 0:       # Se la classe assegnata non coincide con la vera incremento l'errore\n",
    "                        Type2 += 1\n",
    "\n",
    "        else:\n",
    "                classification_result[i] = 1\n",
    "                signal_Gauss_classified.append([x[i],y[i]])\n",
    "                if true_class[i] != 1:       # Se la classe assegnata non coincide con la vera incremento l'errore\n",
    "                        Type1 += 1 \n",
    "\n",
    "            "
   ]
  },
  {
   "cell_type": "markdown",
   "metadata": {},
   "source": [
    "Infine stampo a schermo il numero di eventi classificati come Breit-Wigner ($H_0$), quello di eventi gaussiani $H_1$ e il numero di errori del primo e secondo tipo. \n",
    "\n",
    "Uso questi dati per calcolare l'efficienza del test:"
   ]
  },
  {
   "cell_type": "markdown",
   "metadata": {},
   "source": [
    "$\\varepsilon_{H0} = 1 - \\alpha$"
   ]
  },
  {
   "cell_type": "markdown",
   "metadata": {},
   "source": [
    "dove con $\\alpha$ si indica la probabilità di errori del primo tipo,\n",
    "e la purezza del segnale, indicata come la probabilità che un evento sotto la soglia di rigetto di ipotesi nulla sia effettivamente di segnale:"
   ]
  },
  {
   "cell_type": "markdown",
   "metadata": {},
   "source": [
    "$\\pi = 1 - \\beta$"
   ]
  },
  {
   "cell_type": "markdown",
   "metadata": {},
   "source": [
    "dove con $\\beta$ si indica la probabilità di errori del secondo tipo."
   ]
  },
  {
   "cell_type": "code",
   "execution_count": 5,
   "metadata": {},
   "outputs": [
    {
     "name": "stdout",
     "output_type": "stream",
     "text": [
      "\n",
      "--- Risultati ---\n",
      "Eventi Breit-Wigner (H0):  4972\n",
      "Eventi Gaussiani (H1):  5028\n",
      "Errori Tipo 1 (Falso Positivo):  81\n",
      "Errori Tipo 2 (Falso Negativo):  53\n",
      "Efficienza del test (1 - alfa):  98.4 %\n",
      "Purezza del segnale (1 - beta):  98.9 %\n"
     ]
    },
    {
     "data": {
      "image/png": "[encoded data removed]",
      "text/plain": [
       "<Figure size 432x288 with 2 Axes>"
      ]
     },
     "metadata": {},
     "output_type": "display_data"
    }
   ],
   "source": [
    "# Stampo i risultati a schermo            \n",
    "print(\"\\n--- Risultati ---\")\n",
    "print(\"Eventi Breit-Wigner (H0): \", len(signal_BW_classified))\n",
    "print(\"Eventi Gaussiani (H1): \", len(signal_Gauss_classified))\n",
    "print(\"Errori Tipo 1 (Falso Positivo): \", Type1)\n",
    "print(\"Errori Tipo 2 (Falso Negativo): \", Type2)\n",
    "\n",
    "###     efficienza è la probabilità di non avere un falso positivo, ossia di non dichiarare fondo un evento di segnale\n",
    "efficienza = 1 - Type1/len(signal_BW_classified)\n",
    "print(\"Efficienza del test (1 - alfa): \", round(efficienza*1000.)/10., \"%\")\n",
    "\n",
    "###     La purezza del segnale è il numero di eventi di segnale accettati diviso il numero di eventi accettati\n",
    "purezza = 1 - (Type2 / len(signal_BW_classified))\n",
    "print(\"Purezza del segnale (1 - beta): \", round(purezza*1000.)/10., \"%\")        \n",
    "\n",
    "\n",
    "\n",
    "\n",
    "# Plot dei dati\n",
    "plt.subplot(121)\n",
    "plt.scatter([x[0] for x in [x[0] for x in signal_BW]], [y[1] for y in [y[0] for y in signal_BW]], label=\"BW\")   #Nota che l'ultimo y e' y[0] perche' devi prendere il primo elemento che\n",
    "plt.scatter([x[0] for x in [x[0] for x in signal_Gauss]], [y[1] for y in [y[0] for y in signal_Gauss]], label=\"Gauss\")  #e' il vettore, e non l'indice!\n",
    "plt.legend()\n",
    "\n",
    "plt.subplot(122)\n",
    "\n",
    "plt.scatter([x[0] for x in signal_BW_classified],[ y[1] for y in signal_BW_classified], label=\"BW_classified\")\n",
    "plt.scatter([x[0] for x in signal_Gauss_classified], [y[1] for y in signal_Gauss_classified], label=\"Gauss_classified\")\n",
    "plt.legend()\n",
    "plt.show()\n"
   ]
  }
 ],
 "metadata": {
  "kernelspec": {
   "display_name": "Python 3",
   "language": "python",
   "name": "python3"
  },
  "language_info": {
   "codemirror_mode": {
    "name": "ipython",
    "version": 3
   },
   "file_extension": ".py",
   "mimetype": "text/x-python",
   "name": "python",
   "nbconvert_exporter": "python",
   "pygments_lexer": "ipython3",
   "version": "3.6.3"
  }
 },
 "nbformat": 4,
 "nbformat_minor": 2
}
