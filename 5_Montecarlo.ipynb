{
 "cells": [
  {
   "cell_type": "markdown",
   "metadata": {},
   "source": [
    "# Integrazione con metodo Montecarlo\n",
    "\n",
    "Una tecnica MC e’una qualsiasi tecnica che fa uso di numeri casuali per\n",
    "risolvere un problema.\n",
    "\n",
    "In questo caso l'obiettivo è integrare la funzione $f(x) = 3x^5 + 2x^4+ 3x^3$ sull'intervallo definito [0,5]. \n",
    "\n",
    "Per prima cosa si costruisce il plot della funzione da integrare."
   ]
  },
  {
   "cell_type": "code",
   "execution_count": null,
   "metadata": {
    "collapsed": true
   },
   "outputs": [],
   "source": [
    "import numpy as np\n",
    "import matplotlib.pyplot as plt\n",
    "import pandas as pd\n",
    "\n",
    "def function(x):\n",
    "    return((3*x**5) + 2*x**4+ 3*x**3)\n",
    "\n",
    "X = np.linspace(-100,100,1000)\n",
    "plt.plot(X,function(X))\n",
    "plt.title('$f(x) = 3x^5 + 2x^4+ 3x^3$')\n",
    "plt.show()"
   ]
  },
  {
   "cell_type": "markdown",
   "metadata": {},
   "source": [
    "![](funz.png)"
   ]
  },
  {
   "cell_type": "markdown",
   "metadata": {},
   "source": [
    "Si procede ora a definire la funzione di integrazione $integrate$ per integrare f(x) nell'intervallo [0,5]. In questa funzione si implementa un algoritmo Hit-and-Miss per ottenere il valore numerico dell'interazione."
   ]
  },
  {
   "cell_type": "code",
   "execution_count": null,
   "metadata": {
    "collapsed": true
   },
   "outputs": [],
   "source": [
    "def integrate(x1,x2,func=function,n=100000):\n",
    "    X=np.linspace(x1,x2,1000) #x1 e x2 poi definiti\n",
    "    y1=0\n",
    "    y2=max((func(X)))+1\n",
    "    #print(\"x1,x2,y1,y2:\" ,x1,x2,y1,y2)\n",
    "    area=(x2-x1)*(y2-y1) #quadrato bersagliato\n",
    "    check=[]\n",
    "    xs=[]\n",
    "    ys=[]\n",
    "    for i in range(n):\n",
    "        x=np.random.uniform(x1,x2,1)\n",
    "        xs.append(x)\n",
    "        y=np.random.uniform(y1,y2,1)\n",
    "        ys.append(y)\n",
    "        if abs(y)>abs(func(x)) or y<0:\n",
    "            check.append(0)\n",
    "        else:\n",
    "            check.append(1)\n",
    "    #ritorno una frazione di 1 (la probabilità)\n",
    "    return(np.mean(check)*area,xs,ys,check) \n",
    "\n",
    "\n",
    "print(\"Valore dell'integrale definito :\", integrate(0, 5,function)[0]) \n",
    "#ritorno solo np.mean(check)*area\n",
    "                  \n",
    "_,x,y,c=integrate(0,5,n=500)\n",
    "df=pd.DataFrame()\n",
    "df['x']=x\n",
    "df['y']=y\n",
    "df['c']=c\n",
    "\n",
    "X = np.linspace(0,5,1000)\n",
    "plt.clf()\n",
    "plt.plot(X,function(X)) #plotto la funzione in un intervallo\n",
    "plt.scatter(df[df['c']==0]['x'],df[df['c']==0]['y'],color='blue') #plotto i punti 0\n",
    "plt.scatter(df[df['c']==1]['x'],df[df['c']==1]['y'],color='red') #plotto i punti 1\n",
    "plt.show()"
   ]
  },
  {
   "cell_type": "markdown",
   "metadata": {},
   "source": [
    "Campionando dei numeri casuali uniformemente distribuiti nel rettangolo definito dall'intervallo di integrazione quello che si ottiene è riportato a titolo esimplificativo nella figura sottostante.\n",
    "\n",
    "![](inte.png)"
   ]
  },
  {
   "cell_type": "markdown",
   "metadata": {},
   "source": [
    "N_hits segue una distribuzione binomiale con probabilita’ p.\n",
    "\n",
    "E(N_hits )=N_tot*p\n",
    "\n",
    "V(N_hits )=N_tot*p(1-p)"
   ]
  },
  {
   "cell_type": "markdown",
   "metadata": {},
   "source": [
    "Campionando $n = 10^5$ eventi il risultato dell'integrale è:\n",
    "\n",
    "![](valinte.png)"
   ]
  },
  {
   "cell_type": "markdown",
   "metadata": {
    "collapsed": true
   },
   "source": [
    "Con $n = 10^5$ eventi $V(integral) \\cong 0,0003$.\n",
    "\n",
    "Un modo per ridurre la varianza è ovviamente aumentare il numero di eventi. A parità di eventi si può anche applicare uno dei diversi metodi di riduzione della varianza"
   ]
  },
  {
   "cell_type": "markdown",
   "metadata": {},
   "source": [
    "Metodo di riduzione della varianza **Sampling stratificato**.\n",
    "\n",
    "Se i punti x i utilizzati per il calcolo dell’ integrale MC fossero scelti in modo più uniforme, le fluttuazioni sarebbero inferiori. Si puà procede allora a dividere l’intervallo di integrazione [a,b] in 2 parti, [a,c] e [c,b], con meta’ della statistica in ogni parte. \n",
    "\n",
    "L'implementazione di questo metodo nel programma è semplice ed il codice necessario è qui riportato:\n",
    "\n",
    "**print(\"Valore dell'integrale definito :\" , integrate(0, 2.5, function)[0] + integrate(2.5 , 5 , function)[0])** "
   ]
  }
 ],
 "metadata": {
  "kernelspec": {
   "display_name": "Python 3",
   "language": "python",
   "name": "python3"
  },
  "language_info": {
   "codemirror_mode": {
    "name": "ipython",
    "version": 3
   },
   "file_extension": ".py",
   "mimetype": "text/x-python",
   "name": "python",
   "nbconvert_exporter": "python",
   "pygments_lexer": "ipython3",
   "version": "3.6.3"
  }
 },
 "nbformat": 4,
 "nbformat_minor": 2
}
