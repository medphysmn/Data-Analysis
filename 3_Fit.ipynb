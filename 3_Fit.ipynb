{
 "cells": [
  {
   "cell_type": "markdown",
   "metadata": {},
   "source": [
    "# Tecniche di Fitting\n",
    "\n",
    "Si è generato un campione di $NSignal = 2000$ eventi di segnale distribuiti secondo una Breit Wigner con $FWHM = 149\\, MeV$ e $M_0 = 776\\, MeV$. \n",
    "\n",
    "A ciò si è sovrapposto un fondo polinomiale di secondo ordine di $NBKG = 5000$ eventi tra 0 e $1500\\,MeV$.\n",
    "\n",
    "Infine, ad ogni punto generato si è applicato un noise gaussiano con risoluzione $NoiseRes = 10\\, MeV$."
   ]
  },
  {
   "cell_type": "markdown",
   "metadata": {},
   "source": [
    "Si è quindi proceduto ad eseguire il fit dei dati utilizzando le tecniche di Extended Maximum Likelihood, (Binned) Maximum Likelihood, Least Squares e Modified Least Squares."
   ]
  },
  {
   "cell_type": "code",
   "execution_count": 1,
   "metadata": {
    "collapsed": true
   },
   "outputs": [],
   "source": [
    "import numpy as np\n",
    "import matplotlib.pyplot as plt\n",
    "import math\n",
    "import scipy.optimize as opt\n",
    "import scipy.integrate as integrate\n",
    "import numbers\n",
    "\n",
    "\n",
    "# Parametri Breit-Wigner\n",
    "NSignal=2000\n",
    "M0=776.\n",
    "FWHM=149.\n",
    "\n",
    "# Parametri fondo\n",
    "NBKG=5000\n",
    "\n",
    "# Parametri noise\n",
    "NoiseMean = 0\n",
    "NoiseRes = 10\n",
    "\n",
    "np.random.seed(1)  #Inizializzo il seed\n",
    "\n",
    "Ntot = NSignal + NBKG   # Calcolo il logaritmo degli eventi totali misurati\n",
    "logNtot = math.log(Ntot)\n"
   ]
  },
  {
   "cell_type": "markdown",
   "metadata": {},
   "source": [
    "Definisco la distribuzione di probabilità somma delle due distribuzioni moltiplicate per il parametro indicante il numero di eventi di ciascun tipo:\n",
    "$$\n",
    "\\mbox{Eventi Attesi }(x,\\vec{\\theta}) = \\quad n_{signal}\\frac{1}{\\pi} \\frac{\\Gamma/2}{\\Gamma^2/2 + (x - M_0)^2} \\quad + \\quad n_{background} \\frac{3}{x_{max}^3} x^2\n",
    "$$"
   ]
  },
  {
   "cell_type": "code",
   "execution_count": 2,
   "metadata": {
    "collapsed": true
   },
   "outputs": [],
   "source": [
    "def Distribuzione(x, parametri):\n",
    "        n_sig = parametri[0]    # scompongo il vettore \"parametri\" nei singoli parametri per dargli senso fisico\n",
    "        M_0 = parametri[1]\n",
    "        Gamma = parametri[2]\n",
    "        n_back = parametri[3]\n",
    "        x_max = 1500.\n",
    "\n",
    "        ### numero eventi come parametro\n",
    "        EventiAttesi = 1.*n_sig/math.pi * (Gamma/2.)/((Gamma/2.)**2 + (x-M_0)**2) + n_back * 3./(x_max)**3 * (x)**2\n",
    "        ### numero eventi fissati\n",
    "#        EventiAttesi = 2000./math.pi * (Gamma/2.)/((Gamma/2.)**2 + (x-M_0)**2) + 5000. * 3./(x_max)**3 * (x)**2         # eventi fissati\n",
    "\n",
    "        if isinstance(EventiAttesi, numbers.Real):  # Questa if clause è per assicurarmi che l'output del conto sia \n",
    "                                                    # un numero reale e non una lista\n",
    "                if      float(EventiAttesi) <= 0:   # Se il numero di eventi attesi è negativo lo fisso a\n",
    "                        return 1e-3                 # un numero piccolo\n",
    "                else:\n",
    "                        return EventiAttesi\n",
    "        else:\n",
    "                return EventiAttesi\n",
    "#       2000/math.pi * (Gamma/2.)/((Gamma/2.)**2 + (x-M_0)**2) + 5000 * 3./(x_max)**3 * (x)**2          #N segnale e N background fissati\n",
    "\n"
   ]
  },
  {
   "cell_type": "markdown",
   "metadata": {},
   "source": [
    "Definisco la *Extended Likelihood* come una Likelihood in cui la normalizzazione è assunta come una variabile poissoniana:\n",
    "$$ ExtLikelihood (\\vec{x}, \\vec{\\theta}, \\nu) = \\frac{e^{-\\nu}\\nu^{n}}{n!} \\prod_i^n f(x_i,\\vec{\\theta})$$"
   ]
  },
  {
   "cell_type": "markdown",
   "metadata": {},
   "source": [
    "Il metodo della *Extended Maximum Likelihood* si basa sulla massimizzazione di questa funzione (o del suo logaritmo, per semplicità) per la stima dei parametri. La funzione da massimizzare è quindi:\n",
    "$$l_E = \\sum_i^n \\log (\\nu f(x,\\vec{\\theta})) - \\nu$$"
   ]
  },
  {
   "cell_type": "code",
   "execution_count": 3,
   "metadata": {
    "collapsed": true
   },
   "outputs": [],
   "source": [
    "def ExtendedLogLikelihood (parametriExtended):\n",
    "\n",
    "        ELogLikelihood = 0\n",
    "        # Scompongo il vettore dei parametri in input alla funzione in un vettore di parametri necessari\n",
    "        # alla funzione Distribuzione e nel parametro che rappresenta nu (parametriExtended[4])\n",
    "        parametri = [parametriExtended[0], parametriExtended[1], parametriExtended[2], parametriExtended[3]]\n",
    "\n",
    "        for i, x in enumerate(signalback):        #La lista signalback conterrà segnale e fondo\n",
    "                Termine_somma = math.log(parametriExtended[4] * Distribuzione(x,parametri) / Ntot)\n",
    "                ELogLikelihood +=  Termine_somma\n",
    "        ELogLikelihood -= parametriExtended[4]\n",
    "        return -1. * ELogLikelihood   # Cambio segno per poter usare un algoritmo di minimizzazione nel programma\n",
    "    "
   ]
  },
  {
   "cell_type": "markdown",
   "metadata": {},
   "source": [
    "Definisco ora la funzione Binned Likelihood, utilizzata al posto della Likelihood poichè gli eventi saranno, appunto, binnati.\n",
    "La Binned Likelihood consiste nell'applicazione di una pdf multinomiale per il calcolo delle probabilità di avere un determinato numero di eventi in ogni bin. Avendo $k$ bin e $n_tot$ eventi misurati, si ha:\n",
    "$$BinnedLikelihood = n_{tot}! \\prod_i^k \\frac{\\nu_i}{n_{tot}n_i!} $$\n",
    "con:\n",
    "$$\\nu_i = n_{tot} \\int_{bin_i} f(x,\\vec{\\theta}) dx$$\n",
    "che rappresenta il numero di eventi attesi nel bin i-esimo.\n",
    "\n",
    "La funzione da massimizzare diventa quindi:\n",
    "$$l = \\sum_i^k n_i\\,\\log(\\frac{\\nu_i}{n_{tot}})$$\n",
    "con $n_i$ eventi nello i-esimo bin."
   ]
  },
  {
   "cell_type": "code",
   "execution_count": 4,
   "metadata": {
    "collapsed": true
   },
   "outputs": [],
   "source": [
    "def LogLikelihood (parametri):\n",
    "\n",
    "        BLogLikelihood = 0\n",
    "\n",
    "        for i in range(len(conteggi)):   #La lista conteggi contiene il numero di eventi in ciascun bin\n",
    "                x = (bin[i] + bin[i+1])/2.    # Definisco la x su cui ...?\n",
    "                \n",
    "                # Calcolo il valore nu ed il suo errore, che poi non utilizzerò\n",
    "                nu, errnu = integrate.quad(Distribuzione,  bin[i], bin[i+1], args=(parametri))\n",
    "\n",
    "                # Con questa if clause setto un tetto al valore massimo che può assumere il logaritmo\n",
    "                if (nu < 1e-5): \n",
    "\n",
    "                        if conteggi[i] == 0:  # Se i conteggi nel bin sono zero, non aggiungo nulla\n",
    "                                continue\n",
    "                        else:                 # Setto il tetto massimo al logaritmo\n",
    "                                BLogLikelihood += conteggi[i] * ( (-1e3) - logNtot)\n",
    "                else:                         # Altrimenti aggiungo il valore calcolato\n",
    "                        BLogLikelihood += conteggi[i] * (math.log(nu) - logNtot)\n",
    "\n",
    "        return -1.*BLogLikelihood    # Cambio segno per poter usare un algoritmo di minimizzazione nel programma\n"
   ]
  },
  {
   "cell_type": "markdown",
   "metadata": {},
   "source": [
    "Definisco quindi le funzioni per i metodi Least Squares e Modified Least Squares. In questi metodi si minimizza la funzione:\n",
    "$$\\chi^2(\\vec{\\theta}) = \\sum_i^k \\frac{\\left( n_i - \\nu_i\\,(\\vec{\\theta}) \\right)^2}{\\sigma_i^2}$$\n",
    "Dove nel caso LS:\n",
    "$$\\sigma_i^2 = \\nu_i\\,(\\vec{\\theta})$$\n",
    "mentre nel caso MLS:\n",
    "$$\\sigma_i^2 = n_i$$\n",
    "con $n_i$ numero di eventi nel bin i-esimo e $\\nu_i$ definita come nel caso precedente."
   ]
  },
  {
   "cell_type": "code",
   "execution_count": 5,
   "metadata": {
    "collapsed": true
   },
   "outputs": [],
   "source": [
    "def LeastSquares (parametri):\n",
    "\n",
    "        LS = 0\n",
    "        for i in range(len(conteggi)):\n",
    "                x = (bin[i] + bin[i+1])/2.\n",
    "                \n",
    "                # Calcolo il valore nu ed il suo errore, che poi non utilizzerò\n",
    "                nu, errnu = integrate.quad(Distribuzione,  bin[i], bin[i+1], args=(parametri))\n",
    "                if nu == 0:\n",
    "                        LS += (conteggi[i] - nu)**2 / 1e-3\n",
    "                else:\n",
    "                        LS += (conteggi[i] - nu)**2 / nu\n",
    "\n",
    "        return LS\n",
    "\n",
    "\n",
    "def ModLeastSquares (parametri):\n",
    "\n",
    "        MLS = 0\n",
    "        for i in range(len(conteggi)):\n",
    "                x = (bin[i] + bin[i+1])/2.\n",
    "                 \n",
    "                # Calcolo il valore nu ed il suo errore, che poi non utilizzerò\n",
    "                nu, errnu = integrate.quad(Distribuzione,  bin[i], bin[i+1], args=(parametri))\n",
    "\n",
    "                if conteggi[i] == 0:     # Se il numero di conteggi in un bin è nullo divido per un numero\n",
    "                                         # arbitrario piccolo\n",
    "                        MLS += (conteggi[i] - nu)**2 / 0.01\n",
    "                else:\n",
    "                        MLS += (conteggi[i] - nu)**2 / (1.*conteggi[i])\n",
    "\n",
    "        return MLS\n"
   ]
  },
  {
   "cell_type": "markdown",
   "metadata": {},
   "source": [
    "Genero gli eventi di segnale utilizzando il metodo della funzione inversa che per una Breit Wigner significa ottenere le variabili tramite la funzione:\n",
    "$$\\mbox{result} = M_0 + \\frac{\\Gamma}{2} \\tan(x)$$\n",
    "con $x$ variabile random distribuita uniformemente in $[-\\frac{\\pi}{2}, \\frac{\\pi}{2}]$."
   ]
  },
  {
   "cell_type": "code",
   "execution_count": 6,
   "metadata": {},
   "outputs": [
    {
     "name": "stdout",
     "output_type": "stream",
     "text": [
      "Genero gli eventi...\n"
     ]
    }
   ],
   "source": [
    "print(\"Genero gli eventi...\")\n",
    "signal = []     #creo la lista dove immagazzino il segnale\n",
    "\n",
    "while len(signal) < NSignal:    #Mi assicuro di avere NSignal eventi, dato che scarterò quelli negativi \n",
    "                                # e quelli oltre la x massima considerata\n",
    "        \n",
    "        result = M0 + (FWHM/2) * math.tan(np.random.uniform(-math.pi/2.,+math.pi/2.))\n",
    "        if result > 0:                  #Impongo il vincolo che sia positivo, altrimenti non è fisico.\n",
    "                if result < 1500:       #Questo vincolo serve per non prendere segnale olte la xMax.\n",
    "                        noise = np.random.normal(NoiseMean, NoiseRes)   #Genero il noise gaussiano\n",
    "                        signal.append(result + noise)   #Immagazzino il dato\n",
    "\n"
   ]
  },
  {
   "cell_type": "markdown",
   "metadata": {},
   "source": [
    "Genero gli eventi di fondo utilizzando ancora il metodo della funzione inversa. Per un polinomio di secondo ordine si ha:\n",
    "$$\\mbox{result} = x_{max} \\sqrt[3]{x}$$\n",
    "con $x$ variabile random distribuita uniformemente in $[0,1]$."
   ]
  },
  {
   "cell_type": "code",
   "execution_count": 7,
   "metadata": {
    "collapsed": true
   },
   "outputs": [],
   "source": [
    "signalback = signal     # Creo la lista dove immagazzinerò segnale e fondo e la riempio col segnale\n",
    "x_max = 1500.\n",
    "\n",
    "for i in range(NBKG):\n",
    "        result = x_max * (np.random.uniform(0.,1.))**(1/3.) # Genero il fondo\n",
    "        noise = np.random.normal(NoiseMean, NoiseRes)       # Genero il noise gaussiano\n",
    "        signalback.append(result + noise)\n"
   ]
  },
  {
   "cell_type": "markdown",
   "metadata": {},
   "source": [
    "Istogrammo gli eventi ed estraggo dallo stesso i dati riguardanti i conteggi e i bin. Calcolo il numero di eventi totali."
   ]
  },
  {
   "cell_type": "code",
   "execution_count": 8,
   "metadata": {},
   "outputs": [
    {
     "data": {
      "image/png": "[encoded data removed]",
      "text/plain": [
       "<Figure size 432x288 with 1 Axes>"
      ]
     },
     "metadata": {},
     "output_type": "display_data"
    }
   ],
   "source": [
    "# Istogrammo gli eventi\n",
    "bin = np.linspace(min(signalback), max(signalback),100) # Creo bin dal segnale minimo al segnale massimo.\n",
    "Histogram = plt.hist(signalback,bin, label='Dati')\n",
    "\n",
    "conteggi, bin, bars = Histogram # Estraggo i  dati dall'istogramma\n",
    "\n",
    "# Calcolo i conteggi totali nell'istogramma che so già coincidere con i 7000 desiderati\n",
    "conteggi_totali = 0\n",
    "for i in range(len(conteggi)):\n",
    "        conteggi_totali += conteggi[i]"
   ]
  },
  {
   "cell_type": "markdown",
   "metadata": {},
   "source": [
    "Procedo quindi a fare il fitting dei dati.\n",
    "Inizializzo i parametri. La lista *parametriExtended* contiene in più anche il valore iniziale del parametro $\\nu$ della Extended Likelihood.\n",
    "\n",
    "La funzione di minimizzazione *scipy.optimize.minimize* permette la minimizzazione con vincoli. Definisco quindi il vincolo che:\n",
    "$$n_{tot} - n_{signal} - n_{background} = 0$$\n",
    "Posso poi decidere se utilizzarlo o meno commentando la riga di codice corrispondente."
   ]
  },
  {
   "cell_type": "code",
   "execution_count": 9,
   "metadata": {},
   "outputs": [
    {
     "name": "stdout",
     "output_type": "stream",
     "text": [
      "Fit EML... \n",
      "Fit ML... \n",
      "Fit LS... \n",
      "Fit MLS... \n"
     ]
    },
    {
     "data": {
      "image/png": "[encoded data removed]",
      "text/plain": [
       "<Figure size 432x288 with 1 Axes>"
      ]
     },
     "metadata": {},
     "output_type": "display_data"
    }
   ],
   "source": [
    "parametri = [2e3, 1e3, 1e2, 5e3]    # n_signal, FWHM, M_0, n_background\n",
    "parametriExtended = [2e3, 1e3, 1e2, 5e3, 7e3]\n",
    "\n",
    "cons = ({'type': 'eq', 'fun': lambda x: conteggi_totali - x[0] - x[3]}) \n",
    "\n",
    "\n",
    "\n",
    "### Extended Maximum Likelihood\n",
    "print(\"Fit EML... \")\n",
    "\n",
    "### Eseguo il fit minimizzando la funzione con scipy.optimize.minimize()\n",
    "result = opt.minimize(ExtendedLogLikelihood, parametriExtended, tol=1)                          #Senza vincolo\n",
    "#result = opt.minimize(ExtendedLogLikelihood, parametriExtended, tol=1, constraints=cons)       #Con vincolo\n",
    "\n",
    "if result.success:\n",
    "        parametri_EML = result.x                 # Se il fit converge, estraggo i parametri ricavati\n",
    "else:\n",
    "        raise ValueError(result.message)\n",
    "        \n",
    "#Genero una x per ogni bin così da graficare la funzione con i parametri appena ottenuti\n",
    "xgraph = np.linspace (0, max(bin), len(bin))\n",
    "\n",
    "# Plotto il grafico, compenso la discretizzazione dell'istogramma moltiplicando\n",
    "# il valore in un punto della funzione per la larghezza dei bin.\n",
    "fitfunEML = plt.plot(xgraph, (bin[1]-bin[0])*Distribuzione(xgraph,parametri_EML), label='EML')  \n",
    "\n",
    "\n",
    "\n",
    "\n",
    "\n",
    "\n",
    "### Binned Maximum Likelihood\n",
    "print(\"Fit ML... \")\n",
    "\n",
    "result = opt.minimize(LogLikelihood, parametri, tol=1)                         #Senza vincolo\n",
    "#result = opt.minimize(LogLikelihood, parametri, tol=1, constraints=cons)        #Con vincolo\n",
    "\n",
    "if result.success:\n",
    "        parametri_ML = result.x\n",
    "else:\n",
    "        raise ValueError(result.message)\n",
    "        \n",
    "#Plotto il grafico, con le stesse x del precedente.\n",
    "fitfunML = plt.plot(xgraph, (bin[1]-bin[0])*Distribuzione(xgraph,parametri_ML), label='ML')    \n",
    "\n",
    "\n",
    "\n",
    "### Least Squares\n",
    "print(\"Fit LS... \")\n",
    "\n",
    "result = opt.minimize(LeastSquares, parametri, tol=1)                           #Senza vincolo\n",
    "#result = opt.minimize(LeastSquares, parametri, tol=1, constraints=cons)                #Con vincolo\n",
    "\n",
    "if result.success:\n",
    "        parametri_LS = result.x\n",
    "else:\n",
    "        raise ValueError(result.message)\n",
    "\n",
    "        \n",
    "fitfunLS = plt.plot(xgraph, (bin[1]-bin[0])*Distribuzione(xgraph,parametri_LS), label='LS')   #Plotto il grafico.\n",
    "\n",
    "\n",
    "\n",
    "\n",
    "\n",
    "\n",
    "### Modified Least Squares\n",
    "print(\"Fit MLS... \")\n",
    "\n",
    "result = opt.minimize(ModLeastSquares, parametri, tol=1)                        #Senza vincolo\n",
    "#result = opt.minimize(ModLeastSquares, parametri, tol=1, constraints=cons)       #Con vincolo\n",
    "\n",
    "if result.success:\n",
    "        parametri_MLS = result.x\n",
    "else:\n",
    "        raise ValueError(result.message)\n",
    "\n",
    "#Plotto il grafico. \n",
    "fitfunMLS = plt.plot(xgraph, (bin[1]-bin[0])*Distribuzione(xgraph,parametri_MLS), label='MLS')  \n"
   ]
  },
  {
   "cell_type": "markdown",
   "metadata": {},
   "source": [
    "Proseguo quindi con il calcolo delle incertezze sui parametri stimati.\n",
    "Per le tecniche legate alla Maximum Likelihood, assumendo una distribuzione degli errori gaussiana, ho che nei pressi del minimo vale:\n",
    "$$\\log L(\\theta) = \\log L(\\hat{\\theta}) - \\frac{(\\theta- \\hat{\\theta})^2}{2\\sigma_{\\hat{\\theta}}^2}$$\n",
    "E quindi:\n",
    "$$\\log(L(\\hat{\\theta}) \\pm \\sigma_{\\hat{\\theta}}) = \\log (L(\\hat{\\theta})) - \\frac{1}{2}$$\n",
    "\n",
    "\n",
    "\n",
    "Per quanto riguarda le tecniche LS e MLS si noti che per errori gaussiani:\n",
    "$$\\log(L) =  \\frac{(x - \\mu)^2}{2\\sigma^2} = - \\frac{1}{2} \\chi^2$$\n",
    "e quindi si possono calcolare le incertezze sul parametro calcolato come:\n",
    "$$\\chi^2(\\hat{\\theta} \\pm \\sigma_{\\hat{\\theta}}) = \\chi^2(\\hat{\\theta}) + 1$$"
   ]
  },
  {
   "cell_type": "code",
   "execution_count": 10,
   "metadata": {},
   "outputs": [
    {
     "name": "stdout",
     "output_type": "stream",
     "text": [
      "Calcolo le incertezze...\n"
     ]
    }
   ],
   "source": [
    "print(\"Calcolo le incertezze...\")\n",
    "# Definisco una variabile globale \"parametro\" che andrà da 0 a 3 (i 4 parametri della distribuzione)\n",
    "# Tramite un ciclo for, per ciascun valore di quest'ultima, uso la funzione scipy.optimize.root()\n",
    "# che mi calcola lo zero della funzione di una variabile che ha in input.\n",
    "# Per questo motivo definisco 4 funzioni (onevarEML, onevarML, etc..) che rendono una funzione\n",
    "# \"di un solo parametro\" le funzioni \"di molti parametri\" definite all'inizio del programma.\n",
    "\n",
    "\n",
    "# Creo delle copie delle liste contenenti i parametri ricavati tramite fit.\n",
    "# Andrò a variare i valori contenuti nelle liste \"theta\" mentre quelle \"parametri\"\n",
    "# resteranno fisse.\n",
    "theta_EML = parametri_EML.copy()\n",
    "theta_ML = parametri_ML.copy()\n",
    "theta_LS = parametri_LS.copy()\n",
    "theta_MLS = parametri_MLS.copy()\n",
    "\n",
    "global parametro        # Definisco la variabile globale\n",
    "\n",
    "# Definisco le 4 liste contenenti le incertezze.\n",
    "Incertezza_EML = []\n",
    "Incertezza_ML = []\n",
    "Incertezza_LS = []\n",
    "Incertezza_MLS = []\n",
    "\n",
    "def onevarEML(x):\n",
    "        global parametro\n",
    "        theta_EML[parametro]=x\n",
    "        return -1.*ExtendedLogLikelihood(parametri_EML) -0.5 - -1.*ExtendedLogLikelihood(theta_EML)\n",
    "\n",
    "def onevarML(x):\n",
    "        global parametro\n",
    "        theta_ML[parametro]=x\n",
    "        return -1.*LogLikelihood(parametri_ML) -0.5 - -1.*LogLikelihood(theta_ML)\n",
    "\n",
    "def onevarLS(x):\n",
    "        global parametro\n",
    "        theta_LS[parametro]=x\n",
    "        return LeastSquares(parametri_LS) -1. - LeastSquares(theta_LS)\n",
    "\n",
    "def onevarMLS(x):\n",
    "        global parametro\n",
    "        theta_MLS[parametro]=x\n",
    "        return ModLeastSquares(parametri_MLS) -1. - ModLeastSquares(theta_MLS)\n",
    "\n",
    "# Eseguo il calcolo facendo un ciclo for sui 4 parametri di interesse\n",
    "# Ottenuto lo zero della funzione calcolo l'incertezza del parametro tramite distanza dal valore stimato\n",
    "# e lo inserisco nella lista delle incertezze\n",
    "for parametro in range(len(parametri_ML)):\n",
    "        Incertezza_EML.append(abs(parametri_EML[parametro] - float(opt.root(onevarEML, parametri[parametro], method='hybr', tol=1e-3).x) ))\n",
    "        Incertezza_ML.append(abs(parametri_ML[parametro] - float(opt.root(onevarML, parametri[parametro], method='hybr', tol=1e-3).x) ))\n",
    "        Incertezza_LS.append(abs(parametri_LS[parametro] - float(opt.root(onevarLS, parametri[parametro], method='hybr', tol=1e-3).x) ))\n",
    "        Incertezza_MLS.append(abs(parametri_MLS[parametro] - float(opt.root(onevarMLS, parametri[parametro], method='hybr', tol=1e-3).x) ))\n",
    "\n",
    "\n"
   ]
  },
  {
   "cell_type": "code",
   "execution_count": 11,
   "metadata": {},
   "outputs": [
    {
     "name": "stdout",
     "output_type": "stream",
     "text": [
      "I parametri sono NSignal, M0, FWHM, NBackground.\n",
      "Ext. Maximum Likelihood:  \t\t\tBinned Maximum Likelihood:  \t\t\tLeast Squares:  \t\t\tModified Least Squares\n",
      "2000.0  +-  0.0 \t 2000.0  +-  0.0 \t 2000.0  +-  0.0 \t 2000.0  +-  0.0\n",
      "781.0890760876392  +-  16.272057636817067 \t 780.3407326135912  +-  15.42619476708262 \t 769.8967285221863  +-  2.7672979231919044 \t 775.6623139860369  +-  0.7900673235176328\n",
      "136.7672062514163  +-  37.99554973072925 \t 135.63442920672605  +-  37.27473375210461 \t 140.27003782841007  +-  0.14364359408668292 \t 93.9931969022162  +-  0.49639175975519834\n",
      "5000.0  +-  0.0 \t 5000.0  +-  0.0 \t 5000.0  +-  0.0 \t 5000.0  +-  0.0\n",
      "\n",
      "nu EML:  6999.99650360165\n"
     ]
    },
    {
     "data": {
      "image/png": "[encoded data removed]",
      "text/plain": [
       "<Figure size 432x288 with 1 Axes>"
      ]
     },
     "metadata": {},
     "output_type": "display_data"
    }
   ],
   "source": [
    "# Stampo a schermo i risultati\n",
    "print(\"I parametri sono NSignal, M0, FWHM, NBackground.\")\n",
    "print(\"Ext. Maximum Likelihood: \",\"\\t\\t\\tBinned Maximum Likelihood: \",\"\\t\\t\\tLeast Squares: \",\"\\t\\t\\tModified Least Squares\")\n",
    "for i in range(len(parametri_ML)):\n",
    "        print(parametri_EML[i],\" +- \", Incertezza_EML[i],\"\\t\", parametri_ML[i], \" +- \", Incertezza_ML[i], \"\\t\", parametri_LS[i], \" +- \", Incertezza_LS[i], \"\\t\", parametri_MLS[i], \" +- \",Incertezza_MLS[i])\n",
    "\n",
    "print(\"\\nnu EML: \", parametri_EML[4])\n",
    "\n",
    "\n",
    "# Plotto i grafici\n",
    "Histogram = plt.hist(signalback,bin, label='Dati')\n",
    "fitfunEML = plt.plot(xgraph, (bin[1]-bin[0])*Distribuzione(xgraph,parametri_EML), label='EML')  \n",
    "fitfunML = plt.plot(xgraph, (bin[1]-bin[0])*Distribuzione(xgraph,parametri_ML), label='ML')    \n",
    "fitfunLS = plt.plot(xgraph, (bin[1]-bin[0])*Distribuzione(xgraph,parametri_LS), label='LS') \n",
    "fitfunMLS = plt.plot(xgraph, (bin[1]-bin[0])*Distribuzione(xgraph,parametri_MLS), label='MLS')  \n",
    "\n",
    "\n",
    "plt.legend()\n",
    "plt.show()\n",
    "\n"
   ]
  },
  {
   "cell_type": "markdown",
   "metadata": {},
   "source": [
    "# Risultati fit eventi liberi - senza vincolo:\n",
    "\n"
   ]
  },
  {
   "cell_type": "markdown",
   "metadata": {},
   "source": [
    "![title](./SegnaleLiberoNoVincoloSeed1.png)\n",
    "\n",
    "\n"
   ]
  },
  {
   "cell_type": "markdown",
   "metadata": {},
   "source": [
    "Si osserva come i risultati siano approssimativamente giusti, tuttavia sono in pochi ad essere compatibili con i valori esatti entro le incertezze statistiche.\n",
    "Il metodo che restituisce i risultati più soddisfacenti è quello Least Squares, che comprende i valori veri degli eventi di segnale e fondo entro le incertezze statistiche.\n",
    "Il metodo Binned Maximum Likelihood contiene il valore vero per $M_0$ ma restituisce solamente risultati approssimativi negli altri casi."
   ]
  },
  {
   "cell_type": "markdown",
   "metadata": {},
   "source": [
    "# Risultati fit eventi liberi - con vincolo:"
   ]
  },
  {
   "cell_type": "markdown",
   "metadata": {},
   "source": [
    "![title](./SegnaleLiberoVincoloSeed1.png)"
   ]
  },
  {
   "cell_type": "markdown",
   "metadata": {},
   "source": [
    "Anche in questo caso i risultati più soddisfacenti sono restituiti dalla tecnica Least Squares. Tutte le tecniche Least Squares restituiscono un valore di $M_0$ compatibile con l'incertezza, mentre quelle Maximum Likelihood lo avvicinano solamente.\n",
    "Solamente il metodo Least Squares restituisce un valore soddisfacente del parametro FWHM."
   ]
  },
  {
   "cell_type": "markdown",
   "metadata": {},
   "source": [
    "# Risultati fit eventi fissati:"
   ]
  },
  {
   "cell_type": "markdown",
   "metadata": {},
   "source": [
    "![title](./SegnaleFissatoSeed1.png)"
   ]
  },
  {
   "cell_type": "markdown",
   "metadata": {},
   "source": [
    "Fissando il numero di eventi di segnale e fondo, invece, si ottengono dei risultati compatibili entro l'incertezza per i metodi Maximum Likelihood.\n",
    "Per MLS si ha $M_0$ compatibile e FWHM no, mentre per LS si ha $M_0$ molto vicina al valore vero ma non entro l'incertezza, e una FWHM del giusto ordine di grandezza ma non compatibile a causa di una incertezza molto ridotta."
   ]
  },
  {
   "cell_type": "markdown",
   "metadata": {},
   "source": [
    "I risultati maggiormente soddisfacenti nel caso dei numeri di eventi fissati sono attribuibili alla riduzione dei gradi di libertà del problema. "
   ]
  }
 ],
 "metadata": {
  "kernelspec": {
   "display_name": "Python 3",
   "language": "python",
   "name": "python3"
  },
  "language_info": {
   "codemirror_mode": {
    "name": "ipython",
    "version": 3
   },
   "file_extension": ".py",
   "mimetype": "text/x-python",
   "name": "python",
   "nbconvert_exporter": "python",
   "pygments_lexer": "ipython3",
   "version": "3.6.3"
  }
 },
 "nbformat": 4,
 "nbformat_minor": 2
}
