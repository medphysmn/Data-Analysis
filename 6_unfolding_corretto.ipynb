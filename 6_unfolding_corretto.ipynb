{
 "cells": [
  {
   "cell_type": "markdown",
   "metadata": {},
   "source": [
    "# Data Unfolding\n",
    "\n",
    "Un compito importante dell’analisi dati in un esperimento consiste nel\n",
    "dedurre, a partire dalla distribuzione misurata di una quantità fisica di interesse, la corrispondente distribuzione vera.\n",
    "\n",
    "La differenza tra le due distribuzioni è dovuta sia alla presenza di un fondo fisico sia alle distorsioni causate dal rivelatore. \n",
    "\n",
    "Il metodo di correzione di queste distorsioni è noto con il nome di unfolding o deconvoluzione.\n",
    "\n",
    "La diffrazione è un particolare fenomeno di interferenza che si verifica\n",
    "quando un’onda incontra nel suo percorso un ostacolo o un’apertura. Il pattern di diffrazione cambia quando nel piano sono presenti delle fenditure multiple.\n",
    "\n",
    "Lo spettro atteso è qualitativamente riportato in figura (c):\n",
    "\n",
    "\n",
    "\n",
    "\n"
   ]
  },
  {
   "cell_type": "markdown",
   "metadata": {},
   "source": [
    "![](doppiaz.jpg)"
   ]
  },
  {
   "cell_type": "markdown",
   "metadata": {},
   "source": [
    "Lo spettro di intensità può essere descritto come segue:"
   ]
  },
  {
   "cell_type": "markdown",
   "metadata": {},
   "source": [
    "![](inter.png)\n"
   ]
  },
  {
   "cell_type": "markdown",
   "metadata": {},
   "source": [
    "Si intende simulare lo spettro di intensità prodotto sullo schermo dalla\n",
    "diffrazione da doppia fenditura."
   ]
  },
  {
   "cell_type": "code",
   "execution_count": 1,
   "metadata": {},
   "outputs": [
    {
     "name": "stdout",
     "output_type": "stream",
     "text": [
      "Welcome to JupyROOT 6.14/00\n"
     ]
    },
    {
     "ename": "ModuleNotFoundError",
     "evalue": "No module named 'rootplot'",
     "output_type": "error",
     "traceback": [
      "\u001b[0;31m---------------------------------------------------------------------------\u001b[0m",
      "\u001b[0;31mModuleNotFoundError\u001b[0m                       Traceback (most recent call last)",
      "\u001b[0;32m<ipython-input-1-45f887fc6a5e>\u001b[0m in \u001b[0;36m<module>\u001b[0;34m()\u001b[0m\n\u001b[1;32m      4\u001b[0m \u001b[0;32mimport\u001b[0m \u001b[0mpandas\u001b[0m\u001b[0;34m\u001b[0m\u001b[0m\n\u001b[1;32m      5\u001b[0m \u001b[0;32mimport\u001b[0m \u001b[0mrandom\u001b[0m\u001b[0;34m\u001b[0m\u001b[0m\n\u001b[0;32m----> 6\u001b[0;31m \u001b[0;32mimport\u001b[0m \u001b[0mrootplot\u001b[0m\u001b[0;34m.\u001b[0m\u001b[0mroot2matplotlib\u001b[0m \u001b[0;32mas\u001b[0m \u001b[0mr2m\u001b[0m\u001b[0;34m\u001b[0m\u001b[0m\n\u001b[0m\u001b[1;32m      7\u001b[0m \u001b[0;32mfrom\u001b[0m \u001b[0mmatplotlib\u001b[0m \u001b[0;32mimport\u001b[0m \u001b[0mpyplot\u001b[0m \u001b[0;32mas\u001b[0m \u001b[0mplt\u001b[0m\u001b[0;34m\u001b[0m\u001b[0m\n\u001b[1;32m      8\u001b[0m \u001b[0;31m#from ROOT import RooUnfoldResponse\u001b[0m\u001b[0;34m\u001b[0m\u001b[0;34m\u001b[0m\u001b[0m\n",
      "\u001b[0;32m/usr/local/Cellar/root/6.14.00_1/lib/root/ROOT.py\u001b[0m in \u001b[0;36m_importhook\u001b[0;34m(name, *args, **kwds)\u001b[0m\n\u001b[1;32m    459\u001b[0m       \u001b[0;32mexcept\u001b[0m \u001b[0mException\u001b[0m\u001b[0;34m:\u001b[0m\u001b[0;34m\u001b[0m\u001b[0m\n\u001b[1;32m    460\u001b[0m          \u001b[0;32mpass\u001b[0m\u001b[0;34m\u001b[0m\u001b[0m\n\u001b[0;32m--> 461\u001b[0;31m    \u001b[0;32mreturn\u001b[0m \u001b[0m_orig_ihook\u001b[0m\u001b[0;34m(\u001b[0m \u001b[0mname\u001b[0m\u001b[0;34m,\u001b[0m \u001b[0;34m*\u001b[0m\u001b[0margs\u001b[0m\u001b[0;34m,\u001b[0m \u001b[0;34m**\u001b[0m\u001b[0mkwds\u001b[0m \u001b[0;34m)\u001b[0m\u001b[0;34m\u001b[0m\u001b[0m\n\u001b[0m\u001b[1;32m    462\u001b[0m \u001b[0;34m\u001b[0m\u001b[0m\n\u001b[1;32m    463\u001b[0m \u001b[0m__builtin__\u001b[0m\u001b[0;34m.\u001b[0m\u001b[0m__import__\u001b[0m \u001b[0;34m=\u001b[0m \u001b[0m_importhook\u001b[0m\u001b[0;34m\u001b[0m\u001b[0m\n",
      "\u001b[0;31mModuleNotFoundError\u001b[0m: No module named 'rootplot'"
     ]
    }
   ],
   "source": [
    "import numpy as np\n",
    "import ROOT\n",
    "import pylab\n",
    "import pandas\n",
    "import random\n",
    "import rootplot.root2matplotlib as r2m\n",
    "from matplotlib import pyplot as plt\n",
    "from ROOT import RooUnfoldResponse\n",
    "\n",
    "# Definisco la funzione di I per 2 fenditure .\n",
    "def doppia_fenditura (x , I_0 , a , L , lungh_onda) :\n",
    "    return I_0 * np . power (( lungh_onda * L * \n",
    "                              np.sin ( np.pi * a * x /( lungh_onda * L ) ) \n",
    "                              /( np.pi * a * x )\n",
    "                              *( np.sin ( np.pi * 2 * 0.001 * x /( lungh_onda * L \n",
    "                                                                 ) ) )\n",
    "                              /( np.sin ( np.pi * 0.001 * x /( lungh_onda * L )\n",
    "                                                                    ) ) ) , 2)\n",
    "\n",
    "# Ridefinisco la funzione di I per N fenditure per ROOT .\n",
    "def doppia_fenditura_root (x , parametri ) :\n",
    "    return doppia_fenditura ( x[0] , parametri[0] , parametri[1] ,parametri [2] ,\n",
    "                                                                     parametri[3])\n",
    "\n",
    "# Costanti\n",
    "e = 10\n",
    "x_min = -0.02\n",
    "x_max = +0.025\n",
    "I_0 = 1.\n",
    "L = 5.\n",
    "a = 0.0005 \n",
    "lungh_onda = 0.0000006\n",
    "num_bins = 45\n",
    "n = 50000\n",
    "\n",
    "# Creo l oggetto TF1 e imposto i parametri .\n",
    "funzione_doppia_fenditura = ROOT.TF1 (\"funzione_doppia_fenditura\",\n",
    "                                        doppia_fenditura_root , x_min , x_max , 4)\n",
    "funzione_doppia_fenditura.SetParameters (I_0 , a , L , lungh_onda)\n",
    "\n",
    "# Creo l istogramma per i dati \"veri\".\n",
    "histo = ROOT.TH1F(\"h\", \"Histo\", num_bins , x_min , x_max)\n",
    "c = ROOT.TCanvas(\"c\")\n",
    "    \n",
    "# Creo lo spettro incidente generando n eventi e riempiendo l  istogramma.\n",
    "x_i = []\n",
    "for i in range( n ):\n",
    "#    x_i = funzione_doppia_fenditura.GetRandom(x_min , x_max)\n",
    "    x_i.append(funzione_doppia_fenditura.GetRandom(x_min , x_max))\n",
    "    histo.Fill(x_i[i])\n",
    "    \n",
    "histo.Draw()\n",
    "c.Draw()\n",
    "c.SaveAs(\"doppia_fenditura_originale.png\")\n"
   ]
  },
  {
   "cell_type": "markdown",
   "metadata": {},
   "source": [
    "L'istogramma di eventi che si ottiene è:\n",
    "\n",
    "\n",
    "\n",
    "![](doppia_fenditura_originale.png)"
   ]
  },
  {
   "cell_type": "markdown",
   "metadata": {},
   "source": [
    "**Smearing dei dati**\n",
    "\n",
    "Si applica ora uno smearing Gaussiano con  $\\mu=0$ e $\\sigma=c*\\Delta x$ all'istogramma degli eventi ottenuti per introdurre la migrazione segnale tra bin come causa di distorsione."
   ]
  },
  {
   "cell_type": "code",
   "execution_count": null,
   "metadata": {},
   "outputs": [],
   "source": [
    "# Inizializzazioni .\n",
    "mu_smear = 0.0\n",
    "c = 1.0\n",
    "Delta_x = (x_max - x_min)/num_bins\n",
    "\n",
    "# Creo listogramma per i dati \" misurati \".\n",
    "d = ROOT.TCanvas(\"d\")\n",
    "histo_smeared = ROOT.TH1F(\"Smeared\", \"Smeared\", num_bins , x_min , x_max)\n",
    "\n",
    "# Applico lo smearing gaussiano ai dati generati in precedenza e \n",
    "# riempio un secondo istogramma .\n",
    "for i in range(n):\n",
    "    x_i_measured=x_i[i] + random.gauss(mu_smear , (c*Delta_x))\n",
    "    histo_smeared.Fill(x_i_measured)\n",
    "    \n",
    "histo_smeared.Draw()\n",
    "d.Draw()\n",
    "d.SaveAs(\"histo_smeared.png\")"
   ]
  },
  {
   "cell_type": "markdown",
   "metadata": {},
   "source": [
    "Sono riportati tre differenti smearing rispettivamente con $c = 0.1$ ,  $c = 0.5$ e $c = 1.$ \n",
    "\n",
    "Si osserva una chiara “evoluzione” degli istogrammi con smearing all’aumentare di $c$; come atteso il picco centrale si abbassa e si allarga, mentre i picchi secondari sono sempre meno netti."
   ]
  },
  {
   "cell_type": "markdown",
   "metadata": {},
   "source": [
    "Smoothing con $c = 0.1$:\n",
    "\n",
    "![](histo_smeared0.1.png)"
   ]
  },
  {
   "cell_type": "markdown",
   "metadata": {},
   "source": [
    "Smoothing con $c = 0.5$:\n",
    "\n",
    "![](histo_smeared0.5.png)"
   ]
  },
  {
   "cell_type": "markdown",
   "metadata": {},
   "source": [
    "Smoothing con $c = 1$:\n",
    "\n",
    "![](histo_smeared1.png)"
   ]
  },
  {
   "cell_type": "markdown",
   "metadata": {},
   "source": [
    "**Unfolding dei dati**\n",
    "\n",
    "Utilizzando il package RooUnfold si effettua quindi l'unfolding dei dati, ovvero “correggere” le distorsioni introdotte dal rivelatore e la\n",
    "presenza di fondi.\n",
    "\n",
    "Il metodo di unfolding che abbiamo utilizzato è il cosiddetto unfolding\n",
    "bayesiano, che si basa sul noto teorema di Bayes e che venne introdotto nel 1994 da G. D’Agostini.\n",
    "\n",
    "La procedura di unfolding bayesiano può essere spiegata in un quadro di\n",
    "cause ed effetti nel quale le cause corrispondono ai valori veri prima dello smearing e gli effetti corrispondono ai valori misurati dopo lo smearing.\n",
    "\n",
    "L’aspetto particolarmente interessante è la possibilità di effettuare l’unfolding anche in caso di completa ignoranza del processo di distorsione in esame; infatti è sufficiente porre $P_0(C)$ (la probabilità iniziale della causa $C$) uguale a una distribuzione uniforme. Scegliendo $P_0(C)$ uniforme sono necessarie più iterazioni rispetto al caso in cui la distribuzione iniziale è accuratamente scelta, ma non si corre il rischio di influenzare irreparabilmente la distribuzione finale.\n",
    "\n",
    "Tipicamente dopo poche iterazioni la distribuzione finale approssima bene la distribuzione vera, mentre al crescere del numero di iterazioni di unfolding la distribuzione finale mostra grandi fluttuazioni attorno alla distribuzione vera. Questo effetto è dovuto a un’amplificazione delle fluttuazioni statistiche.\n",
    "\n",
    "Si è scelta una distribuzione $P_0(C)$ uniforme e si è effettuato l’unfolding dei dati ottenuti si senza smearing che con smearing con i diversi valori di c. Ogni ciclo di unfolding è stato scelto essere composto da 4 iterazioni."
   ]
  },
  {
   "cell_type": "code",
   "execution_count": null,
   "metadata": {},
   "outputs": [],
   "source": [
    "# Inizializzione \n",
    "n_t = 1000000\n",
    "\n",
    "e = ROOT.TCanvas(\"e\")\n",
    "# Creo un istogramma per lo spettro uniforme \" vero \" e\n",
    "# un istogramma per lo spettro uniforme \" misurato \".\n",
    "histo_risp = ROOT.TH1F(\"Response_true\",\"Response_true\", num_bins ,\n",
    "                                                       x_min , x_max)\n",
    "histo_smeared_risp = ROOT.TH1F(\"Response_smeared\" ,\"Response_smeared\" ,\n",
    "                                               num_bins , x_min , x_max)\n",
    "\n",
    "\n",
    "# Creo la matrice di risposta .\n",
    "response = ROOT.RooUnfoldResponse(histo_smeared_risp ,histo_risp);\n",
    "# Genero i due spettri e riempio la matrice di risposta .\n",
    "for i in range (n_t):\n",
    "    x_i_risp = random.uniform(x_min , x_max)\n",
    "    x_i_measured_risp = random.gauss(x_i_risp , ( c * Delta_x ))\n",
    "    response.Fill(x_i_measured_risp , x_i_risp)\n",
    "\n",
    "plt.figure(1, (8, 6))\n",
    "ax1 = plt.axes()\n",
    "    \n",
    "# Applico l'unfolding bayesiano ai dati ottenuti precedentemente \n",
    "# a seguito dello smearing gaussiano .\n",
    "unfold_bayes = ROOT.RooUnfoldBayes(response , histo_smeared ,\n",
    "                                           4 , False ) # Ciclo di 4 volte\n",
    "Unfold_bayes = r2m.Hist(unfold_bayes.Hreco() , label = \"Unfolded\" ) \n",
    "\n",
    "Unfold_bayes.bar(color='r')\n",
    "Unfold_bayes.show_titles()\n",
    "plt.savefig('Unfolded_initial')\n",
    "#plt.show()\n",
    "\n",
    "# Recupero il valore di chi quadro .\n",
    "#chi2 = unfold_bayes.Chi2\n",
    "\n",
    "plt.clf()\n",
    "plt.figure(1, (8, 6))\n",
    "ax2 = plt.axes()"
   ]
  },
  {
   "cell_type": "markdown",
   "metadata": {},
   "source": [
    "**Unfolding bayesiano con $c=1$**\n",
    "\n",
    "![](Unfolded1.png)"
   ]
  },
  {
   "cell_type": "markdown",
   "metadata": {},
   "source": [
    "**Unfolding bayesiano con $c=0.5$**\n",
    "\n",
    "![](Unfolded05.png)"
   ]
  },
  {
   "cell_type": "markdown",
   "metadata": {},
   "source": [
    "**Unfolding bayesiano con $c=0.1$**\n",
    "\n",
    "![](Unfolded01.png)"
   ]
  }
 ],
 "metadata": {
  "kernelspec": {
   "display_name": "Python 3",
   "language": "python",
   "name": "python3"
  },
  "language_info": {
   "codemirror_mode": {
    "name": "ipython",
    "version": 3
   },
   "file_extension": ".py",
   "mimetype": "text/x-python",
   "name": "python",
   "nbconvert_exporter": "python",
   "pygments_lexer": "ipython3",
   "version": "3.7.0"
  }
 },
 "nbformat": 4,
 "nbformat_minor": 2
}
